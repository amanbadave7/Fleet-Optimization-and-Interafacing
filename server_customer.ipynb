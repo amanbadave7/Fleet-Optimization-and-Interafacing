{
  "nbformat": 4,
  "nbformat_minor": 0,
  "metadata": {
    "colab": {
      "provenance": []
    },
    "kernelspec": {
      "name": "python3",
      "display_name": "Python 3"
    },
    "language_info": {
      "name": "python"
    }
  },
  "cells": [
    {
      "cell_type": "code",
      "execution_count": null,
      "metadata": {
        "id": "wuI_iMUhGM5A"
      },
      "outputs": [],
      "source": [
        "import socket\n",
        "import json\n",
        "server_customer = socket.socket()\n",
        "server_customer.bind(('localhost', 7777))\n",
        "server_customer.listen(1000)\n",
        "\n",
        "orders = {\"No. of passengers\": 0,\n",
        "          \"Luggage\": 0,\n",
        "          \"Location\": 0}\n",
        "\n",
        "while True:\n",
        "    customer, addr = server_customer.accept()\n",
        "    print('Connected with Customer:', addr)\n",
        "\n",
        "    client = socket.socket()\n",
        "    client.connect(('localhost', 9999))\n",
        "    client.send(bytes('Customer', 'utf-8'))\n",
        "    vehicle = client.recv(1024).decode()\n",
        "    print(vehicle)\n",
        "    vehicles = {\"CNG\": {\"Mini\": vehicle[1], \"Sedan\": vehicle[4], \"SUV\": vehicle[7]},\n",
        "                \"EV\": {\"Mini\": vehicle[10], \"Sedan\": vehicle[13], \"SUV\": vehicle[16]}}\n",
        "    vehicles_json = json.dumps(vehicles)\n",
        "\n",
        "    customer.send(bytes('Welcome', 'utf-8'))\n",
        "    customer.send(bytes('Please enter your order-', 'utf-8'))\n",
        "\n",
        "    order = customer.recv(1024).decode()\n",
        "    print(order)\n",
        "    # print(customer.recv(1024).decode())\n",
        "    # print(customer.recv(1024).decode())\n",
        "\n",
        "    orders[\"No. of passengers\"] = order[2]\n",
        "    orders[\"Luggage\"] = order[7]\n",
        "    orders[\"Location\"] = order[12]\n",
        "    print(orders)\n",
        "    # customer.send(bytes('Please enter the vehicle segment of your choice.', 'utf-8'))\n",
        "    customer.send(bytes('Available segments: ', 'utf-8'))\n",
        "    customer.send(bytes(vehicles_json, 'utf-8'))\n",
        "    vehicle_segment = customer.recv(1024).decode()\n",
        "    print(vehicle_segment)\n",
        "\n",
        "\n",
        "    client.send(bytes(vehicle_segment, 'utf-8'))\n"
      ]
    }
  ]
}