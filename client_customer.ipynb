{
  "nbformat": 4,
  "nbformat_minor": 0,
  "metadata": {
    "colab": {
      "provenance": []
    },
    "kernelspec": {
      "name": "python3",
      "display_name": "Python 3"
    },
    "language_info": {
      "name": "python"
    }
  },
  "cells": [
    {
      "cell_type": "code",
      "execution_count": null,
      "metadata": {
        "id": "ZWWzash9Gflb"
      },
      "outputs": [],
      "source": [
        "import socket\n",
        "import json\n",
        "\n",
        "customer = socket.socket()\n",
        "customer.connect(('localhost', 7777))\n",
        "\n",
        "print(customer.recv(1024).decode())\n",
        "print(customer.recv(1024).decode())\n",
        "\n",
        "'''no_of_passengers= input(\"Number of Passengers: \")\n",
        "luggage = input(\"Amount of Luggage(Kg): \")\n",
        "location = input(\"Location(From-To): \")'''\n",
        "data = [0,0,0]\n",
        "data[0] = input(\"Number of Passengers: \")\n",
        "data[1] = input(\"Amount of Luggage(Kg): \")\n",
        "data[2] = input(\"Location(From-To): \")\n",
        "\n",
        "data_json = json.dumps(data)\n",
        "\n",
        "customer.send(bytes(data_json, 'utf-8'))\n",
        "# customer.send(bytes(luggage, 'utf-8'))\n",
        "# customer.send(bytes(location, 'utf-8'))\n",
        "\n",
        "print(customer.recv(1024).decode())\n",
        "print(customer.recv(1024).decode())\n",
        "\n",
        "vehicle_type = input(\"Enter vehicle type: \")\n",
        "customer.send(bytes(vehicle_type, 'utf-8'))\n"
      ]
    }
  ]
}